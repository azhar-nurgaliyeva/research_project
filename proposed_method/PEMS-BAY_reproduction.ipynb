{
 "cells": [
  {
   "cell_type": "code",
   "execution_count": 1,
   "metadata": {
    "pycharm": {
     "name": "#%%\n"
    }
   },
   "outputs": [],
   "source": [
    "import os, sys, logging\n",
    "import numpy as np\n",
    "from tqdm import tqdm\n",
    "import pandas as pd\n",
    "import pickle\n",
    "from graph_utils import get_nx_graph\n",
    "from lsdlm import utils, lsdlm\n",
    "\n",
    "import time\n",
    "import argparse\n",
    "from scipy import sparse\n",
    "import networkx as nx\n",
    "from epynet import Network\n",
    "import matplotlib.pyplot as plt\n",
    "from matplotlib.colors import LogNorm\n",
    "import seaborn as sns"
   ]
  },
  {
   "cell_type": "code",
   "execution_count": 2,
   "metadata": {},
   "outputs": [
    {
     "name": "stdout",
     "output_type": "stream",
     "text": [
      "loading PEMS-BAY dataset... done.\n"
     ]
    }
   ],
   "source": [
    "print(f'loading PEMS-BAY dataset...', end=' ')\n",
    "\n",
    "df_raw = pd.read_csv(f'data/PEMS-BAY.csv', index_col=0)\n",
    "df_raw.index = pd.to_datetime(df_raw.index)\n",
    "df_raw = df_raw.replace(';', '.')\n",
    "df_raw = df_raw.resample('5T').asfreq().fillna(0)\n",
    "with open('data/adj_mx_PEMS-BAY.pkl', 'rb') as f:\n",
    "    sensor_ids, sensor_id_to_ind, adj_mx = pickle.load(f, encoding='latin1')\n",
    "\n",
    "N = len(df_raw.columns)\n",
    "order = [sensor_id_to_ind[str(sensor)] for sensor in df_raw.columns]\n",
    "adj = np.zeros((N, N))\n",
    "for i, o_r in enumerate(order):\n",
    "    for j, o_c in enumerate(order):\n",
    "        adj[i, j] = adj_mx[o_r, o_c]\n",
    "\n",
    "print('done.')"
   ]
  },
  {
   "cell_type": "code",
   "execution_count": 3,
   "metadata": {},
   "outputs": [
    {
     "data": {
      "text/plain": [
       "count    52128.000000\n",
       "mean        62.605158\n",
       "std          8.623266\n",
       "min          0.000000\n",
       "25%         62.347615\n",
       "50%         65.372769\n",
       "75%         67.035692\n",
       "max         75.492000\n",
       "dtype: float64"
      ]
     },
     "execution_count": 3,
     "metadata": {},
     "output_type": "execute_result"
    }
   ],
   "source": [
    "df_raw.describe().mean(axis=1)"
   ]
  },
  {
   "cell_type": "code",
   "execution_count": 6,
   "metadata": {},
   "outputs": [
    {
     "name": "stdout",
     "output_type": "stream",
     "text": [
      "splitting dataset to training and test set (8:2 ratio)... done.\n"
     ]
    }
   ],
   "source": [
    "def train(training_dataset, weight_matrix, save_to='data/pretrained_PEMS-BAY.model'):\n",
    "    model = lsdlm.DLM(adj_mx=np.maximum(weight_matrix, weight_matrix.T), num_diff_periods=5)  # undirected graph\n",
    "    print('model created... start to train...')\n",
    "    model.fit(training_dataset)\n",
    "    model.save_model(save_to)\n",
    "    print('training finished!')\n",
    "\n",
    "df_train, df_test = utils.split_dataset(df_raw)\n",
    "\n",
    "file = open(\"test_df_train.txt\", \"w+\")\n",
    "content = str(df_train)\n",
    "file.write(content)\n",
    "file.close()\n",
    "\n",
    "file1 = open(\"test_df_test.txt\", \"w+\")\n",
    "content1 = str(df_test)\n",
    "file1.write(content1)\n",
    "file1.close()"
   ]
  },
  {
   "cell_type": "code",
   "execution_count": null,
   "metadata": {},
   "outputs": [],
   "source": [
    "df_test = utils.preprocess(df_test, replace={'from': 0.0, 'to': np.NaN})\n",
    "need_train = True\n",
    "\n",
    "train_model_path = f'data/pretrained_2018_SCADA.model'\n",
    "if need_train==True:\n",
    "    train(save_to=train_model_path, training_dataset=df_train, weight_matrix=adj)\n",
    "    # model is saved as it will take around 16 min.\n",
    "\n",
    "model = pickle.load(open(train_model_path, 'rb'))\n",
    "before = time.time()\n",
    "df_pred = model.predict(df_test, step_ahead=3)\n",
    "print(f'RMSE: {np.sqrt(((df_test - df_pred) ** 2).mean().mean()):.2f}\\n')\n",
    "print(f'Total computation for prediction: {time.time() - before:.2f} sec')"
   ]
  }
 ],
 "metadata": {
  "kernelspec": {
   "display_name": "Python 3 (ipykernel)",
   "language": "python",
   "name": "python3"
  },
  "language_info": {
   "codemirror_mode": {
    "name": "ipython",
    "version": 3
   },
   "file_extension": ".py",
   "mimetype": "text/x-python",
   "name": "python",
   "nbconvert_exporter": "python",
   "pygments_lexer": "ipython3",
   "version": "3.9.7"
  }
 },
 "nbformat": 4,
 "nbformat_minor": 1
}
