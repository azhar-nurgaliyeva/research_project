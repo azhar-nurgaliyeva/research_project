{
 "cells": [
  {
   "cell_type": "code",
   "execution_count": 22,
   "id": "7674540a",
   "metadata": {},
   "outputs": [],
   "source": [
    "import yaml\n",
    "import epynet\n",
    "import pandas as pd\n",
    "import matplotlib.pyplot as plt\n",
    "import pickle\n",
    "import numpy as np\n",
    "import networkx as nx\n",
    "from lsdlm import utils, lsdlm\n",
    "import time\n",
    "import argparse\n",
    "from scipy import sparse\n",
    "from matplotlib.colors import LogNorm\n",
    "import seaborn as sns\n",
    "from sklearn.metrics import mean_absolute_error"
   ]
  },
  {
   "cell_type": "code",
   "execution_count": 23,
   "id": "08a8923b",
   "metadata": {},
   "outputs": [
    {
     "name": "stdout",
     "output_type": "stream",
     "text": [
      "               0         1         2         3         4         5         6  \\\n",
      "0       0.082900  0.063666  0.074538  0.180708  0.237690  0.126197  0.032904   \n",
      "1       0.082918  0.063741  0.074854  0.181041  0.238176  0.126304  0.032966   \n",
      "2       0.083072  0.063827  0.074768  0.181019  0.238423  0.126383  0.033033   \n",
      "3       0.083204  0.063935  0.075009  0.181165  0.238817  0.126321  0.033028   \n",
      "4       0.083304  0.064024  0.074947  0.181381  0.238947  0.126869  0.033135   \n",
      "...          ...       ...       ...       ...       ...       ...       ...   \n",
      "105112  0.078915  0.060505  0.071069  0.177497  0.233391  0.123255  0.030928   \n",
      "105113  0.078920  0.060517  0.071173  0.177713  0.233517  0.123550  0.030937   \n",
      "105114  0.079128  0.060729  0.071360  0.177768  0.233923  0.123727  0.031089   \n",
      "105115  0.079252  0.060776  0.071537  0.178021  0.234118  0.123776  0.031146   \n",
      "105116  0.079347  0.060940  0.071508  0.178132  0.234448  0.123987  0.031178   \n",
      "\n",
      "               7         8         9  ...       772       773       774  \\\n",
      "0       0.259556  0.159193  0.048824  ...  0.562801  0.530468  0.554460   \n",
      "1       0.259831  0.159436  0.049001  ...  0.563525  0.531104  0.554984   \n",
      "2       0.260196  0.159939  0.048984  ...  0.563042  0.530693  0.554612   \n",
      "3       0.260491  0.159734  0.049123  ...  0.563288  0.530886  0.554830   \n",
      "4       0.260723  0.160051  0.049236  ...  0.563741  0.531349  0.555172   \n",
      "...          ...       ...       ...  ...       ...       ...       ...   \n",
      "105112  0.256412  0.154338  0.045717  ...  0.556018  0.524001  0.548796   \n",
      "105113  0.256582  0.154679  0.045761  ...  0.556630  0.524629  0.549318   \n",
      "105114  0.256834  0.154761  0.045847  ...  0.556939  0.524861  0.549653   \n",
      "105115  0.257354  0.155052  0.046033  ...  0.557751  0.525689  0.550275   \n",
      "105116  0.256951  0.155291  0.046076  ...  0.557620  0.525508  0.550211   \n",
      "\n",
      "             775       776       777       778       779       780       781  \n",
      "0       0.417446  0.484926  0.437672  0.441452  0.467176  0.502961  0.494079  \n",
      "1       0.418283  0.485879  0.438455  0.442326  0.468054  0.503987  0.495112  \n",
      "2       0.417801  0.485173  0.437945  0.441633  0.467335  0.503233  0.494289  \n",
      "3       0.418052  0.485513  0.438212  0.442125  0.467690  0.503640  0.494715  \n",
      "4       0.418509  0.486293  0.438792  0.442760  0.468436  0.504377  0.495488  \n",
      "...          ...       ...       ...       ...       ...       ...       ...  \n",
      "105112  0.408197  0.476167  0.430051  0.432658  0.458285  0.493341  0.485033  \n",
      "105113  0.409111  0.477125  0.430904  0.433622  0.459203  0.494421  0.486007  \n",
      "105114  0.409687  0.477503  0.431219  0.433920  0.459563  0.494770  0.486414  \n",
      "105115  0.410767  0.478565  0.432034  0.435004  0.460639  0.495869  0.487412  \n",
      "105116  0.410442  0.478405  0.431864  0.434787  0.460470  0.495672  0.487203  \n",
      "\n",
      "[105117 rows x 782 columns]\n"
     ]
    }
   ],
   "source": [
    "df = pd.read_csv('C:/Users/aznur/PycharmProjects/research_project/proposed_method/data/2018_predictions.csv', index_col='Unnamed: 0')\n",
    "print(df)"
   ]
  },
  {
   "cell_type": "code",
   "execution_count": 24,
   "id": "881ebd5e",
   "metadata": {},
   "outputs": [],
   "source": [
    "df.columns = ['n{}'.format(int(node)+1) for node in df.columns]\n",
    "df.index = pd.date_range(start='2018-01-01 00:00:00', periods=len(df), freq = '5min')"
   ]
  },
  {
   "cell_type": "code",
   "execution_count": 25,
   "id": "bc673ba8",
   "metadata": {},
   "outputs": [
    {
     "name": "stdout",
     "output_type": "stream",
     "text": [
      "Importing dataset configuration...\n",
      "\n"
     ]
    }
   ],
   "source": [
    "print('Importing dataset configuration...\\n')\n",
    "\n",
    "# Open the dataset configuration file\n",
    "with open('C:/Users/aznur/PycharmProjects/research_project/proposed_method/data/dataset_configuration.yaml') as file:\n",
    "\n",
    "    # Load the configuration to a dictionary\n",
    "    config = yaml.load(file, Loader=yaml.FullLoader)\n",
    "\n",
    "# Generate a list of integers, indicating the number of the node\n",
    "# at which a  pressure sensor is present\n",
    "sensors = [int(string.replace(\"n\", \"\")) for string in config['pressure_sensors']]"
   ]
  },
  {
   "cell_type": "code",
   "execution_count": 26,
   "id": "a42bcd51",
   "metadata": {},
   "outputs": [
    {
     "name": "stdout",
     "output_type": "stream",
     "text": [
      "[1, 4, 31, 54, 105, 114, 163, 188, 215, 229, 288, 296, 332, 342, 410, 415, 429, 458, 469, 495, 506, 516, 519, 549, 613, 636, 644, 679, 722, 726, 740, 752, 769]\n"
     ]
    }
   ],
   "source": [
    "print(sensors)"
   ]
  },
  {
   "cell_type": "code",
   "execution_count": 27,
   "id": "12da2d84",
   "metadata": {},
   "outputs": [
    {
     "name": "stdout",
     "output_type": "stream",
     "text": [
      "['n1', 'n4', 'n31', 'n54', 'n105', 'n114', 'n163', 'n188', 'n215', 'n229', 'n288', 'n296', 'n332', 'n342', 'n410', 'n415', 'n429', 'n458', 'n469', 'n495', 'n506', 'n516', 'n519', 'n549', 'n613', 'n636', 'n644', 'n679', 'n722', 'n726', 'n740', 'n752', 'n769']\n"
     ]
    }
   ],
   "source": [
    "new_list = []\n",
    "for i in sensors:\n",
    "    new_list.append('n{}'.format(i))\n",
    "print(new_list)"
   ]
  },
  {
   "cell_type": "code",
   "execution_count": 28,
   "id": "1ad054a8",
   "metadata": {},
   "outputs": [
    {
     "name": "stderr",
     "output_type": "stream",
     "text": [
      "C:\\Users\\aznur\\AppData\\Local\\Temp\\ipykernel_19056\\1746348989.py:3: FutureWarning: In a future version of pandas all arguments of DataFrame.drop except for the argument 'labels' will be keyword-only\n",
      "  df.drop(i, 1, inplace=True)\n"
     ]
    },
    {
     "name": "stdout",
     "output_type": "stream",
     "text": [
      "                           n1        n4       n31       n54      n105  \\\n",
      "2018-01-01 00:00:00  0.082900  0.180708  0.248038  0.255949  0.528629   \n",
      "2018-01-01 00:05:00  0.082918  0.181041  0.248374  0.256698  0.528781   \n",
      "2018-01-01 00:10:00  0.083072  0.181019  0.248525  0.256125  0.528480   \n",
      "2018-01-01 00:15:00  0.083204  0.181165  0.248683  0.256359  0.528659   \n",
      "2018-01-01 00:20:00  0.083304  0.181381  0.249035  0.256985  0.528864   \n",
      "...                       ...       ...       ...       ...       ...   \n",
      "2018-12-31 23:20:00  0.078915  0.177497  0.244821  0.248733  0.525919   \n",
      "2018-12-31 23:25:00  0.078920  0.177713  0.244544  0.249554  0.526198   \n",
      "2018-12-31 23:30:00  0.079128  0.177768  0.245110  0.249944  0.526361   \n",
      "2018-12-31 23:35:00  0.079252  0.178021  0.245139  0.250753  0.526391   \n",
      "2018-12-31 23:40:00  0.079347  0.178132  0.245500  0.250481  0.526459   \n",
      "\n",
      "                         n114      n163      n188      n215      n229  ...  \\\n",
      "2018-01-01 00:00:00  0.593807  0.566884  0.622565  0.291980  0.565077  ...   \n",
      "2018-01-01 00:05:00  0.594338  0.567783  0.623342  0.292261  0.566258  ...   \n",
      "2018-01-01 00:10:00  0.593911  0.566982  0.622713  0.291875  0.565483  ...   \n",
      "2018-01-01 00:15:00  0.594124  0.567448  0.623020  0.292137  0.565869  ...   \n",
      "2018-01-01 00:20:00  0.594628  0.568004  0.623562  0.292341  0.566515  ...   \n",
      "...                       ...       ...       ...       ...       ...  ...   \n",
      "2018-12-31 23:20:00  0.589058  0.558999  0.615870  0.289354  0.554676  ...   \n",
      "2018-12-31 23:25:00  0.589574  0.559801  0.616653  0.289777  0.555970  ...   \n",
      "2018-12-31 23:30:00  0.589554  0.560103  0.616777  0.289916  0.556409  ...   \n",
      "2018-12-31 23:35:00  0.590052  0.560929  0.617443  0.290304  0.557879  ...   \n",
      "2018-12-31 23:40:00  0.589837  0.560777  0.617358  0.290157  0.557490  ...   \n",
      "\n",
      "                         n549      n613      n636      n644      n679  \\\n",
      "2018-01-01 00:00:00  0.612224  0.639059  0.421344  0.463744  0.459238   \n",
      "2018-01-01 00:05:00  0.612928  0.640280  0.421916  0.464457  0.459912   \n",
      "2018-01-01 00:10:00  0.612408  0.639381  0.421555  0.463977  0.459416   \n",
      "2018-01-01 00:15:00  0.612828  0.639892  0.421743  0.464242  0.459697   \n",
      "2018-01-01 00:20:00  0.613187  0.640662  0.422054  0.464708  0.460136   \n",
      "...                       ...       ...       ...       ...       ...   \n",
      "2018-12-31 23:20:00  0.605880  0.628599  0.415758  0.456640  0.452436   \n",
      "2018-12-31 23:25:00  0.606485  0.629687  0.416373  0.457360  0.453130   \n",
      "2018-12-31 23:30:00  0.606676  0.630114  0.416634  0.457660  0.453373   \n",
      "2018-12-31 23:35:00  0.607424  0.631230  0.417291  0.458594  0.454204   \n",
      "2018-12-31 23:40:00  0.607169  0.631050  0.417112  0.458488  0.454036   \n",
      "\n",
      "                         n722      n726      n740      n752      n769  \n",
      "2018-01-01 00:00:00  0.434860  0.454232  0.388136  0.494992  0.481104  \n",
      "2018-01-01 00:05:00  0.435537  0.454916  0.388699  0.495642  0.481841  \n",
      "2018-01-01 00:10:00  0.435119  0.454442  0.388231  0.495174  0.481318  \n",
      "2018-01-01 00:15:00  0.435422  0.454629  0.388460  0.495432  0.481640  \n",
      "2018-01-01 00:20:00  0.435710  0.455032  0.388971  0.495845  0.482152  \n",
      "...                       ...       ...       ...       ...       ...  \n",
      "2018-12-31 23:20:00  0.429052  0.448333  0.382239  0.488883  0.474335  \n",
      "2018-12-31 23:25:00  0.429597  0.448948  0.382767  0.489500  0.474908  \n",
      "2018-12-31 23:30:00  0.429887  0.449226  0.383022  0.489770  0.475201  \n",
      "2018-12-31 23:35:00  0.430558  0.449848  0.383765  0.490498  0.476098  \n",
      "2018-12-31 23:40:00  0.430554  0.449756  0.383659  0.490379  0.475863  \n",
      "\n",
      "[105117 rows x 33 columns]\n"
     ]
    }
   ],
   "source": [
    "for i in df.columns:\n",
    "    if i not in new_list:\n",
    "        df.drop(i, 1, inplace=True)\n",
    "        \n",
    "print(df)"
   ]
  },
  {
   "cell_type": "code",
   "execution_count": 29,
   "id": "c215b18c",
   "metadata": {},
   "outputs": [
    {
     "data": {
      "text/plain": [
       "count    105117.000000\n",
       "mean          0.436744\n",
       "std           0.008859\n",
       "min           0.407310\n",
       "25%           0.429963\n",
       "50%           0.436012\n",
       "75%           0.443707\n",
       "max           0.454615\n",
       "dtype: float64"
      ]
     },
     "execution_count": 29,
     "metadata": {},
     "output_type": "execute_result"
    }
   ],
   "source": [
    "df.describe().mean(axis=1)"
   ]
  },
  {
   "cell_type": "code",
   "execution_count": 30,
   "id": "5bfab59c",
   "metadata": {},
   "outputs": [],
   "source": [
    "df_2018 = pd.read_excel(f'data/2018_SCADA_data.xlsx', index_col=0, sheet_name='Pressures (m)')\n",
    "df_2019 = pd.read_excel(f'data/2019_SCADA_data.xlsx', index_col=0, sheet_name='Pressures (m)')"
   ]
  },
  {
   "cell_type": "code",
   "execution_count": 31,
   "id": "918af70e",
   "metadata": {},
   "outputs": [],
   "source": [
    "df_2018_mine = pd.read_excel(f'2018_predictions_mine.xlsx', index_col=0, sheet_name='Sheet1')"
   ]
  },
  {
   "cell_type": "code",
   "execution_count": 32,
   "id": "fe91fd89",
   "metadata": {},
   "outputs": [
    {
     "data": {
      "text/plain": [
       "count    105120.000000\n",
       "mean         46.236477\n",
       "std           0.481325\n",
       "min          44.442121\n",
       "25%          45.873030\n",
       "50%          46.201515\n",
       "75%          46.613333\n",
       "max          47.196061\n",
       "dtype: float64"
      ]
     },
     "execution_count": 32,
     "metadata": {},
     "output_type": "execute_result"
    }
   ],
   "source": [
    "df_2018.describe().mean(axis=1)"
   ]
  },
  {
   "cell_type": "code",
   "execution_count": 33,
   "id": "fcafef3e",
   "metadata": {},
   "outputs": [
    {
     "data": {
      "text/plain": [
       "count    105120.000000\n",
       "mean         45.774177\n",
       "std           0.651158\n",
       "min          43.965758\n",
       "25%          45.230606\n",
       "50%          45.779091\n",
       "75%          46.297576\n",
       "max          47.152121\n",
       "dtype: float64"
      ]
     },
     "execution_count": 33,
     "metadata": {},
     "output_type": "execute_result"
    }
   ],
   "source": [
    "df_2019.describe().mean(axis=1)"
   ]
  },
  {
   "cell_type": "code",
   "execution_count": 36,
   "id": "8cc3b845",
   "metadata": {},
   "outputs": [
    {
     "name": "stdout",
     "output_type": "stream",
     "text": [
      "MAE: 45.80\n",
      "\n"
     ]
    }
   ],
   "source": [
    "error = mean_absolute_error(df, df_2018[3:])\n",
    "print(f'MAE: {error:.2f}\\n')"
   ]
  },
  {
   "cell_type": "code",
   "execution_count": 19,
   "id": "3104c32c",
   "metadata": {},
   "outputs": [
    {
     "data": {
      "text/plain": [
       "count    105114.000000\n",
       "mean         42.640453\n",
       "std           1.659716\n",
       "min          34.882731\n",
       "25%          41.744491\n",
       "50%          42.636193\n",
       "75%          43.860041\n",
       "max          46.834732\n",
       "dtype: float64"
      ]
     },
     "execution_count": 19,
     "metadata": {},
     "output_type": "execute_result"
    }
   ],
   "source": [
    "df_2018_mine.describe().mean(axis=1)"
   ]
  },
  {
   "cell_type": "code",
   "execution_count": 9,
   "id": "98e06f06",
   "metadata": {},
   "outputs": [],
   "source": [
    "df.to_excel(\"2018_gardar.xlsx\", sheet_name='predictions')"
   ]
  },
  {
   "cell_type": "code",
   "execution_count": null,
   "id": "8d542458",
   "metadata": {},
   "outputs": [],
   "source": []
  }
 ],
 "metadata": {
  "kernelspec": {
   "display_name": "Python 3 (ipykernel)",
   "language": "python",
   "name": "python3"
  },
  "language_info": {
   "codemirror_mode": {
    "name": "ipython",
    "version": 3
   },
   "file_extension": ".py",
   "mimetype": "text/x-python",
   "name": "python",
   "nbconvert_exporter": "python",
   "pygments_lexer": "ipython3",
   "version": "3.9.7"
  }
 },
 "nbformat": 4,
 "nbformat_minor": 5
}