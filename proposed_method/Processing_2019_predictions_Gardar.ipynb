{
 "cells": [
  {
   "cell_type": "code",
   "execution_count": 11,
   "id": "c437fcb7",
   "metadata": {},
   "outputs": [],
   "source": [
    "import yaml\n",
    "import epynet\n",
    "import pandas as pd\n",
    "import matplotlib.pyplot as plt\n",
    "import pickle\n",
    "import numpy as np\n",
    "import networkx as nx\n",
    "from lsdlm import utils, lsdlm\n",
    "import time\n",
    "import argparse\n",
    "from scipy import sparse\n",
    "from matplotlib.colors import LogNorm\n",
    "import seaborn as sns\n",
    "from sklearn.metrics import mean_absolute_error"
   ]
  },
  {
   "cell_type": "code",
   "execution_count": 12,
   "id": "0844d976",
   "metadata": {},
   "outputs": [],
   "source": [
    "df = pd.read_csv('C:/Users/aznur/PycharmProjects/research_project/proposed_method/data/2019_predictions.csv', index_col='Unnamed: 0')"
   ]
  },
  {
   "cell_type": "code",
   "execution_count": 13,
   "id": "dcf94b90",
   "metadata": {},
   "outputs": [],
   "source": [
    "df.columns = ['n{}'.format(int(node)+1) for node in df.columns]\n",
    "df.index = pd.date_range(start='2018-01-01 00:00:00', periods=len(df), freq = '5min')"
   ]
  },
  {
   "cell_type": "code",
   "execution_count": 14,
   "id": "fe439320",
   "metadata": {},
   "outputs": [
    {
     "name": "stdout",
     "output_type": "stream",
     "text": [
      "Importing dataset configuration...\n",
      "\n"
     ]
    }
   ],
   "source": [
    "print('Importing dataset configuration...\\n')\n",
    "\n",
    "# Open the dataset configuration file\n",
    "with open('C:/Users/aznur/PycharmProjects/research_project/proposed_method/data/dataset_configuration.yaml') as file:\n",
    "\n",
    "    # Load the configuration to a dictionary\n",
    "    config = yaml.load(file, Loader=yaml.FullLoader)\n",
    "\n",
    "# Generate a list of integers, indicating the number of the node\n",
    "# at which a  pressure sensor is present\n",
    "sensors = [int(string.replace(\"n\", \"\")) for string in config['pressure_sensors']]"
   ]
  },
  {
   "cell_type": "code",
   "execution_count": 15,
   "id": "3b57be30",
   "metadata": {},
   "outputs": [
    {
     "name": "stdout",
     "output_type": "stream",
     "text": [
      "['n1', 'n4', 'n31', 'n54', 'n105', 'n114', 'n163', 'n188', 'n215', 'n229', 'n288', 'n296', 'n332', 'n342', 'n410', 'n415', 'n429', 'n458', 'n469', 'n495', 'n506', 'n516', 'n519', 'n549', 'n613', 'n636', 'n644', 'n679', 'n722', 'n726', 'n740', 'n752', 'n769']\n"
     ]
    }
   ],
   "source": [
    "new_list = []\n",
    "for i in sensors:\n",
    "    new_list.append('n{}'.format(i))\n",
    "print(new_list)"
   ]
  },
  {
   "cell_type": "code",
   "execution_count": 16,
   "id": "a6faa832",
   "metadata": {},
   "outputs": [
    {
     "name": "stderr",
     "output_type": "stream",
     "text": [
      "C:\\Users\\aznur\\AppData\\Local\\Temp\\ipykernel_2380\\1746348989.py:3: FutureWarning: In a future version of pandas all arguments of DataFrame.drop except for the argument 'labels' will be keyword-only\n",
      "  df.drop(i, 1, inplace=True)\n"
     ]
    },
    {
     "name": "stdout",
     "output_type": "stream",
     "text": [
      "                           n1        n4       n31       n54      n105  \\\n",
      "2018-01-01 00:00:00  0.058116  0.177529  0.234561  0.253002  0.519668   \n",
      "2018-01-01 00:05:00  0.058130  0.177666  0.234693  0.253659  0.520085   \n",
      "2018-01-01 00:10:00  0.058085  0.177661  0.234754  0.253269  0.519887   \n",
      "2018-01-01 00:15:00  0.058171  0.177858  0.234896  0.253461  0.520023   \n",
      "2018-01-01 00:20:00  0.058187  0.177883  0.235348  0.253763  0.520211   \n",
      "...                       ...       ...       ...       ...       ...   \n",
      "2018-12-31 23:20:00  0.057674  0.176258  0.231328  0.231232  0.508238   \n",
      "2018-12-31 23:25:00  0.057592  0.176213  0.231683  0.232058  0.508556   \n",
      "2018-12-31 23:30:00  0.057638  0.176321  0.231387  0.232517  0.508700   \n",
      "2018-12-31 23:35:00  0.057746  0.176375  0.231889  0.233485  0.509285   \n",
      "2018-12-31 23:40:00  0.057783  0.176616  0.231922  0.233296  0.509252   \n",
      "\n",
      "                         n114      n163      n188      n215      n229  ...  \\\n",
      "2018-01-01 00:00:00  0.588174  0.561339  0.617589  0.288271  0.546267  ...   \n",
      "2018-01-01 00:05:00  0.589100  0.562185  0.618531  0.288805  0.547580  ...   \n",
      "2018-01-01 00:10:00  0.588321  0.561488  0.617702  0.288398  0.546796  ...   \n",
      "2018-01-01 00:15:00  0.588631  0.561759  0.618051  0.288917  0.547499  ...   \n",
      "2018-01-01 00:20:00  0.589215  0.562376  0.618714  0.289061  0.547835  ...   \n",
      "...                       ...       ...       ...       ...       ...  ...   \n",
      "2018-12-31 23:20:00  0.560536  0.531239  0.586373  0.267674  0.500409  ...   \n",
      "2018-12-31 23:25:00  0.561371  0.532315  0.587507  0.268858  0.502643  ...   \n",
      "2018-12-31 23:30:00  0.561624  0.532778  0.587990  0.269100  0.503416  ...   \n",
      "2018-12-31 23:35:00  0.562693  0.533862  0.589223  0.270326  0.505847  ...   \n",
      "2018-12-31 23:40:00  0.562539  0.533757  0.589038  0.269931  0.505086  ...   \n",
      "\n",
      "                         n549      n613      n636      n644      n679  \\\n",
      "2018-01-01 00:00:00  0.609120  0.632815  0.411564  0.459426  0.455666   \n",
      "2018-01-01 00:05:00  0.609773  0.633744  0.412629  0.460051  0.456291   \n",
      "2018-01-01 00:10:00  0.609290  0.633159  0.411936  0.459572  0.455915   \n",
      "2018-01-01 00:15:00  0.609371  0.633411  0.412245  0.459856  0.456011   \n",
      "2018-01-01 00:20:00  0.609842  0.633952  0.412841  0.460266  0.456415   \n",
      "...                       ...       ...       ...       ...       ...   \n",
      "2018-12-31 23:20:00  0.589635  0.604171  0.376990  0.436863  0.437118   \n",
      "2018-12-31 23:25:00  0.590308  0.605345  0.378230  0.437718  0.437795   \n",
      "2018-12-31 23:30:00  0.590574  0.605829  0.378651  0.438038  0.438115   \n",
      "2018-12-31 23:35:00  0.591174  0.607115  0.380221  0.439108  0.438973   \n",
      "2018-12-31 23:40:00  0.591209  0.606904  0.379897  0.438866  0.438821   \n",
      "\n",
      "                         n722      n726      n740      n752      n769  \n",
      "2018-01-01 00:00:00  0.427525  0.444925  0.381283  0.491835  0.473698  \n",
      "2018-01-01 00:05:00  0.428318  0.445969  0.382030  0.492350  0.474469  \n",
      "2018-01-01 00:10:00  0.427700  0.445329  0.381527  0.492048  0.473984  \n",
      "2018-01-01 00:15:00  0.427997  0.445487  0.381716  0.492174  0.474262  \n",
      "2018-01-01 00:20:00  0.428511  0.446087  0.382312  0.492457  0.474811  \n",
      "...                       ...       ...       ...       ...       ...  \n",
      "2018-12-31 23:20:00  0.404010  0.415792  0.360274  0.475673  0.447928  \n",
      "2018-12-31 23:25:00  0.404852  0.416800  0.360991  0.476289  0.448726  \n",
      "2018-12-31 23:30:00  0.405193  0.417233  0.361250  0.476495  0.449135  \n",
      "2018-12-31 23:35:00  0.406184  0.418532  0.362088  0.477132  0.450087  \n",
      "2018-12-31 23:40:00  0.405985  0.418361  0.361916  0.477074  0.449943  \n",
      "\n",
      "[105117 rows x 33 columns]\n"
     ]
    }
   ],
   "source": [
    "for i in df.columns:\n",
    "    if i not in new_list:\n",
    "        df.drop(i, 1, inplace=True)\n",
    "        \n",
    "print(df)"
   ]
  },
  {
   "cell_type": "code",
   "execution_count": 17,
   "id": "25237bbf",
   "metadata": {},
   "outputs": [],
   "source": [
    "df.index = pd.date_range(start='2019-01-01 00:00:00', periods=len(df), freq = '5min')"
   ]
  },
  {
   "cell_type": "code",
   "execution_count": 18,
   "id": "c2270316",
   "metadata": {},
   "outputs": [
    {
     "data": {
      "text/plain": [
       "count    105117.000000\n",
       "mean          0.424232\n",
       "std           0.011798\n",
       "min           0.395372\n",
       "25%           0.414209\n",
       "50%           0.424216\n",
       "75%           0.433789\n",
       "max           0.449123\n",
       "dtype: float64"
      ]
     },
     "execution_count": 18,
     "metadata": {},
     "output_type": "execute_result"
    }
   ],
   "source": [
    "df.describe().mean(axis=1)"
   ]
  },
  {
   "cell_type": "code",
   "execution_count": 20,
   "id": "f22b404b",
   "metadata": {},
   "outputs": [],
   "source": [
    "df_2019 = pd.read_excel(f'data/2019_SCADA_data.xlsx', index_col=0, sheet_name='Pressures (m)')"
   ]
  },
  {
   "cell_type": "code",
   "execution_count": 22,
   "id": "6c4daaa8",
   "metadata": {},
   "outputs": [
    {
     "name": "stdout",
     "output_type": "stream",
     "text": [
      "MAE: 45.35\n",
      "\n"
     ]
    }
   ],
   "source": [
    "error = mean_absolute_error(df, df_2019[3:])\n",
    "print(f'MAE: {error:.2f}\\n')"
   ]
  },
  {
   "cell_type": "code",
   "execution_count": 9,
   "id": "ac9d21fa",
   "metadata": {},
   "outputs": [],
   "source": [
    "df.to_excel(\"2019_gardar.xlsx\", sheet_name='predictions')"
   ]
  },
  {
   "cell_type": "code",
   "execution_count": null,
   "id": "0a685f90",
   "metadata": {},
   "outputs": [],
   "source": []
  }
 ],
 "metadata": {
  "kernelspec": {
   "display_name": "Python 3 (ipykernel)",
   "language": "python",
   "name": "python3"
  },
  "language_info": {
   "codemirror_mode": {
    "name": "ipython",
    "version": 3
   },
   "file_extension": ".py",
   "mimetype": "text/x-python",
   "name": "python",
   "nbconvert_exporter": "python",
   "pygments_lexer": "ipython3",
   "version": "3.9.7"
  }
 },
 "nbformat": 4,
 "nbformat_minor": 5
}